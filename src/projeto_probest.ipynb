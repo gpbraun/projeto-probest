{
  "nbformat": 4,
  "nbformat_minor": 0,
  "metadata": {
    "colab": {
      "provenance": [],
      "toc_visible": true,
      "authorship_tag": "ABX9TyNoN3Zt8bDEZiTtLRjyE1x/"
    },
    "kernelspec": {
      "name": "python3",
      "display_name": "Python 3"
    },
    "language_info": {
      "name": "python"
    }
  },
  "cells": [
    {
      "cell_type": "markdown",
      "source": [
        "# Projeto do Curso\n",
        "\n",
        "COE241 -- Estatística e Modelos Probabilísticos\n",
        "\n",
        "COS868 -- Probabilidade e Estatística para Aprendizado de Máquina\n",
        "\n",
        "Segundo Semestre de 2022\n",
        "\n",
        "**Professora**: Rosa Maria Meri Leão\n",
        "\n",
        "**Aluno**: Gabriel Pineschi Braun\n"
      ],
      "metadata": {
        "id": "XawT0JGodo3j"
      }
    },
    {
      "cell_type": "code",
      "source": [
        "import pandas as pd\n",
        "import numpy as np\n",
        "import matplotlib.pyplot as plt"
      ],
      "metadata": {
        "id": "V7u73DA9iaKI"
      },
      "execution_count": 1,
      "outputs": []
    },
    {
      "cell_type": "markdown",
      "source": [
        "## 1. Dataset\n",
        "\n",
        "O objetivo deste trabalho é analisar um conjunto de dados aplicando a teoria aprendida em classe. E muito importante que seja realizada uma análise crítica dos resultados encontrados.\n",
        "\n",
        "O projeto será baseado em dados reais fornecidos por um provedor de Internet de médio porte. Os dados representam a taxa de dados enviados em bps (taxa de upload) e a taxa de dados recebidos em bps (taxa de download) de/por um dispositivo na casa de um usuário do provedor. Dois tipos de dispositivos devem ser analisados: Smart-TV e Chromecast.\n",
        "\n",
        "Dois arquivos contendo os dados serão disponibilizados:\n",
        "\n",
        "1. dataset `chromecast.csv`\n",
        "2. dataset `smart-tv.csv`\n",
        "\n",
        "Cada arquivo possui os seguintes campos: `device_id`, `date_hour`, `bytes_up`, `bytes_down`. O campo `device_id` é o identificador único do dispositivo que está na casa de um usuário do provedor. O campo `date_hour` é a data e a hora em que a coleta de dados foi realizada com a granularidade de 1 minuto. Os campos `bytes_up` e `bytes_down` contém, respectivamente, as taxas em bps dos dados enviados (taxa de upload) e dos dados recebidos (taxa de download) pelo dispositivo em um minuto.\n"
      ],
      "metadata": {
        "id": "LGs5KVE6djzT"
      }
    },
    {
      "cell_type": "code",
      "source": [
        "df_cast = pd.read_csv('dataset_chromecast.csv', parse_dates=[1], infer_datetime_format=True)\n",
        "df_smrt = pd.read_csv('dataset_smart-tv.csv', parse_dates=[1], infer_datetime_format=True)"
      ],
      "metadata": {
        "id": "gyMOu6URfNyU"
      },
      "execution_count": 2,
      "outputs": []
    },
    {
      "cell_type": "markdown",
      "source": [
        "**Reescalonar dados para $\\log 10$**. Como os valores das taxas de upload e de download variam diversas ordens de grandeza, para calcular as estatísticas é necessário reescalonar as taxas para $\\log$ na base $10$. Por exemplo, se o campo `bytes_up` é igual a $1000$, o valor que você deve usar para fazer as análises é 3."
      ],
      "metadata": {
        "id": "ULGHkmUleyE7"
      }
    },
    {
      "cell_type": "code",
      "execution_count": null,
      "metadata": {
        "id": "T9swR4Qjc1yw"
      },
      "outputs": [],
      "source": [
        "df_cast[['log_bytes_up', 'log_bytes_down']] = df_cast[['bytes_up', 'bytes_down']].apply(np.log10)\n",
        "df_smrt[['log_bytes_up', 'log_bytes_down']] = df_smrt[['bytes_up', 'bytes_down']].apply(np.log10)\n",
        "\n",
        "# alguns valores zero no dataset são convertidos a -np.inf pela função np.log10\n",
        "df_cast.replace([np.inf, -np.inf], 0, inplace=True)\n",
        "df_smrt.replace([np.inf, -np.inf], 0, inplace=True)"
      ]
    },
    {
      "cell_type": "markdown",
      "source": [
        "## 2. Estatísticas gerais\n",
        "\n",
        "O objetivo desse estudo é avaliar os dados sem considerar o horário em que foram gerados, ou seja, você deve considerar todos os dados de cada um dos arquivos para obter as estatísticas descritas a seguir. Para cada tipo de dispositivo, Smart-TV e Chromecast, calcular: Histograma, Função Distribuição Empírica, Box Plot, Média, Variância e Desvio Padrão, para a taxa de upload e taxa de download.\n",
        "\n",
        "Lembre-se que o tamanho do bin deve ser estimado de forma que o histograma represente\n",
        "de forma adequada os dados estudados. Use o **método de Sturges** apresentado em aula para\n",
        "estimar o tamanho do bin."
      ],
      "metadata": {
        "id": "cdAbHupkfNQr"
      }
    },
    {
      "cell_type": "code",
      "source": [
        "import matplotlib\n",
        "\n",
        "matplotlib.__version__"
      ],
      "metadata": {
        "colab": {
          "base_uri": "https://localhost:8080/",
          "height": 35
        },
        "id": "1OihXOhB3y_n",
        "outputId": "e664d754-8f06-4f3b-9417-caf80b03e225"
      },
      "execution_count": 8,
      "outputs": [
        {
          "output_type": "execute_result",
          "data": {
            "text/plain": [
              "'3.2.2'"
            ],
            "application/vnd.google.colaboratory.intrinsic+json": {
              "type": "string"
            }
          },
          "metadata": {},
          "execution_count": 8
        }
      ]
    },
    {
      "cell_type": "code",
      "source": [
        "from itertools import combinations\n",
        "\n",
        "fig = plt.figure(constrained_layout=True, figsize=(10, 4))\n",
        "fig.suptitle('Figure title')\n",
        "\n",
        "subfigs = fig.subfigures(4, 1)\n",
        "\n",
        "for subfig, df, direction in zip(subfigs, combinations((df_cast, df_smrt), ['log_bytes_up', 'log_bytes_down'])):\n",
        "    axs = subfig.subplots(1, 3)\n",
        "\n",
        "    axs[0].plot([1, 2, 3], [4, 5, 6])\n"
      ],
      "metadata": {
        "colab": {
          "base_uri": "https://localhost:8080/",
          "height": 252
        },
        "id": "ZUqbXehD14vu",
        "outputId": "f5d09518-85af-44d1-9617-26bf6dfb4c57"
      },
      "execution_count": 6,
      "outputs": [
        {
          "output_type": "error",
          "ename": "AttributeError",
          "evalue": "ignored",
          "traceback": [
            "\u001b[0;31m---------------------------------------------------------------------------\u001b[0m",
            "\u001b[0;31mAttributeError\u001b[0m                            Traceback (most recent call last)",
            "\u001b[0;32m<ipython-input-6-6ed0b002a625>\u001b[0m in \u001b[0;36m<module>\u001b[0;34m\u001b[0m\n\u001b[1;32m      4\u001b[0m \u001b[0mfig\u001b[0m\u001b[0;34m.\u001b[0m\u001b[0msuptitle\u001b[0m\u001b[0;34m(\u001b[0m\u001b[0;34m'Figure title'\u001b[0m\u001b[0;34m)\u001b[0m\u001b[0;34m\u001b[0m\u001b[0;34m\u001b[0m\u001b[0m\n\u001b[1;32m      5\u001b[0m \u001b[0;34m\u001b[0m\u001b[0m\n\u001b[0;32m----> 6\u001b[0;31m \u001b[0msubfigs\u001b[0m \u001b[0;34m=\u001b[0m \u001b[0mfig\u001b[0m\u001b[0;34m.\u001b[0m\u001b[0msubfigures\u001b[0m\u001b[0;34m(\u001b[0m\u001b[0;36m4\u001b[0m\u001b[0;34m,\u001b[0m \u001b[0;36m1\u001b[0m\u001b[0;34m)\u001b[0m\u001b[0;34m\u001b[0m\u001b[0;34m\u001b[0m\u001b[0m\n\u001b[0m\u001b[1;32m      7\u001b[0m \u001b[0;34m\u001b[0m\u001b[0m\n\u001b[1;32m      8\u001b[0m \u001b[0;32mfor\u001b[0m \u001b[0msubfig\u001b[0m\u001b[0;34m,\u001b[0m \u001b[0mdf\u001b[0m\u001b[0;34m,\u001b[0m \u001b[0mdirection\u001b[0m \u001b[0;32min\u001b[0m \u001b[0mzip\u001b[0m\u001b[0;34m(\u001b[0m\u001b[0msubfigs\u001b[0m\u001b[0;34m,\u001b[0m \u001b[0mcombinations\u001b[0m\u001b[0;34m(\u001b[0m\u001b[0;34m(\u001b[0m\u001b[0mdf_cast\u001b[0m\u001b[0;34m,\u001b[0m \u001b[0mdf_smrt\u001b[0m\u001b[0;34m)\u001b[0m\u001b[0;34m,\u001b[0m \u001b[0;34m[\u001b[0m\u001b[0;34m'log_bytes_up'\u001b[0m\u001b[0;34m,\u001b[0m \u001b[0;34m'log_bytes_down'\u001b[0m\u001b[0;34m]\u001b[0m\u001b[0;34m)\u001b[0m\u001b[0;34m)\u001b[0m\u001b[0;34m:\u001b[0m\u001b[0;34m\u001b[0m\u001b[0;34m\u001b[0m\u001b[0m\n",
            "\u001b[0;31mAttributeError\u001b[0m: 'Figure' object has no attribute 'subfigures'"
          ]
        },
        {
          "output_type": "display_data",
          "data": {
            "text/plain": [
              "<Figure size 720x288 with 0 Axes>"
            ]
          },
          "metadata": {}
        }
      ]
    },
    {
      "cell_type": "code",
      "source": [
        "from statsmodels.distributions.empirical_distribution import ECDF\n",
        "\n",
        "fig, axs = plt.subplots(4, 3, figsize=(15, 15))\n",
        "\n",
        "axs_flat = axs.flat\n",
        "\n",
        "for df in (df_cast, df_smrt):\n",
        "    for direction in ['log_bytes_up', 'log_bytes_down']:\n",
        "        data = df[direction]\n",
        "\n",
        "        ax = next(axs_flat)\n",
        "        ax.hist(data, density='True', bins='sturges')\n",
        "\n",
        "        ecdf = ECDF(data)\n",
        "\n",
        "        ax = next(axs_flat)\n",
        "        ax.plot(ecdf.x,ecdf.y)\n",
        "\n",
        "        ax = next(axs_flat)\n",
        "        ax.boxplot(data)"
      ],
      "metadata": {
        "colab": {
          "base_uri": "https://localhost:8080/",
          "height": 863
        },
        "id": "-Eh2AsBzyIr9",
        "outputId": "6dbb483d-c267-42ab-a54d-0bd8cd71f599"
      },
      "execution_count": 71,
      "outputs": [
        {
          "output_type": "display_data",
          "data": {
            "text/plain": [
              "<Figure size 1080x1080 with 12 Axes>"
            ],
            "image/png": "[encoded data removed]"
          },
          "metadata": {
            "needs_background": "light"
          }
        }
      ]
    },
    {
      "cell_type": "markdown",
      "source": [
        "Comente o que você observou a partir dos gráficos e sobre as diferenças e/ou similaridades entre os dois tipos de dispositivos. É importante interpretar os resultados obtidos."
      ],
      "metadata": {
        "id": "8YUydcRyg8u7"
      }
    },
    {
      "cell_type": "markdown",
      "source": [
        "## 3. Estatísticas por horário\n",
        "\n",
        "O objetivo dessa análise é avaliar os dados considerando o horário em que foram gerados independente do dia. Você deve considerar os dados coletados em cada hora para cada tipo de dispositivo para obter as estatísticas descritas a seguir. Para cada tipo de dispositivo, Smart-TV e Chromecast, para cada hora calcular: Box Plot, Média, Variância e Desvio Padrão, para a taxa de upload e taxa de download. Neste item você deve gerar um box plot para cada tipo de dispositivo, para cada taxa coletada (upload e download), para cada hora. "
      ],
      "metadata": {
        "id": "9hmaYtcKfsgb"
      }
    },
    {
      "cell_type": "code",
      "source": [],
      "metadata": {
        "id": "UW0fiZCcguJ7"
      },
      "execution_count": null,
      "outputs": []
    },
    {
      "cell_type": "markdown",
      "source": [
        "Para a média, variância e desvio padrão, você deve fazer 4 gráficos, representando no eixo $X$ a hora e no eixo $Y$ os valores das três estatíticas para cada taxa coletada, para cada tipo de dispositivo."
      ],
      "metadata": {
        "id": "QyZp8NgugtKM"
      }
    },
    {
      "cell_type": "code",
      "source": [],
      "metadata": {
        "id": "tsn4LXXafQVS"
      },
      "execution_count": null,
      "outputs": []
    },
    {
      "cell_type": "markdown",
      "source": [
        "\n",
        "Faça uma análise dos resultados obtidos. Comente sobre as diferenças ou similaridades entre os dois tipos de dispositivos. O que você pode concluir a respeito das estatíticas obtidas por horário?"
      ],
      "metadata": {
        "id": "fbCSPsdiguhD"
      }
    },
    {
      "cell_type": "markdown",
      "source": [
        "## 4. Caracterizando os horários com maior valor de tráfego\n",
        "\n",
        "Neste item o objetivo é parametrizar uma ou mais distribuições da literatura para os dois horários com maior valor da mediana/média de cada taxa coletada para cada tipo de dispositivo."
      ],
      "metadata": {
        "id": "ubpTmmdCgxvT"
      }
    },
    {
      "cell_type": "markdown",
      "source": [
        "### Passo 1\n",
        "\n",
        "O **Passo 1** é escolher, a partir dos gráficos da seção 3, dois horários: um com maior valor de mediana e o outro com maior valor da média, para a taxa de upload e taxa de download, para cada tipo de dispositivo: Smart-TV e Chromecast.\n",
        "\n",
        "Você terá 8 datasets, cada um contendo os dados com as seguintes características:\n",
        "\n",
        "- Dataset 1: Horário com a maior mediana da taxa de upload em uma hora, Smart-TV\n",
        "- Dataset 2: Horário com a maior média da taxa de upload em uma hora, Smart-TV\n",
        "- Dataset 3: Horário com a maior mediana da taxa de download em uma hora, Smart-TV\n",
        "- Dataset 4: Horário com a maior média da taxa de download em uma hora, Smart-TV\n",
        "- Dataset 5: Horário com a maior mediana da taxa de upload em uma hora, Chromecast\n",
        "- Dataset 6: Horário com a maior média da taxa de upload em uma hora, Chromecast\n",
        "- Dataset 7: Horário com a maior mediana da taxa de download em uma hora, Chromecast\n",
        "- Dataset 8: Horário com a maior média da taxa de download em uma hora, Chromecast\n"
      ],
      "metadata": {
        "id": "qHjSU5BehWBS"
      }
    },
    {
      "cell_type": "code",
      "source": [],
      "metadata": {
        "id": "B1RusbEQg2Hj"
      },
      "execution_count": null,
      "outputs": []
    },
    {
      "cell_type": "markdown",
      "source": [
        "### Passo 2\n",
        "\n",
        "No **Passo 2**, faça um histograma para cada um dos 8 datasets. Lembre-se que você deve escolher o tamanho do bin usando o **método de Sturges**."
      ],
      "metadata": {
        "id": "dZfPp4Nmhjx6"
      }
    },
    {
      "cell_type": "code",
      "source": [],
      "metadata": {
        "id": "qVJn95s-iUW7"
      },
      "execution_count": null,
      "outputs": []
    },
    {
      "cell_type": "markdown",
      "source": [
        "### Passo 3\n",
        "\n",
        "No Passo 3 calcule o maximum likelihood estimator (MLE) para estimar os parâmetros das seguintes distribuições: Gaussiana e Gamma, para cada um dos 8 datasets. Explique como você calculou o MLE."
      ],
      "metadata": {
        "id": "TYWe8ngtiU7T"
      }
    },
    {
      "cell_type": "code",
      "source": [],
      "metadata": {
        "id": "9sFpq30Yic10"
      },
      "execution_count": null,
      "outputs": []
    },
    {
      "cell_type": "markdown",
      "source": [
        "### Passo 4\n",
        "\n",
        "No **Passo 4** você deve fazer um gráfico para cada um dos 8 datasets contendo 3 curvas: o histograma, a função densidade Gaussiana com os parâmetros obtidos com o MLE e a função densidade Gamma com os parâmetros obtidos com o MLE."
      ],
      "metadata": {
        "id": "rx4vnhA_idOU"
      }
    },
    {
      "cell_type": "code",
      "source": [],
      "metadata": {
        "id": "EFjd2d1givwj"
      },
      "execution_count": null,
      "outputs": []
    },
    {
      "cell_type": "markdown",
      "source": [
        "Observando os gráficos você deve comentar se existe ou não uma variável aleatória da literatura que possivelmente possa ser usada para representar os dados de cada um dos 8 datasets."
      ],
      "metadata": {
        "id": "I1Az7GFDiwOL"
      }
    },
    {
      "cell_type": "markdown",
      "source": [
        "### Passo 5\n",
        "\n",
        "O **Passo 5** consiste em fazer o gráfico *Probability Plot* comparando os dados de cada dataset com as distribuições parametrizadas. No total são 16 gráficos, comparando os dados reais dos 8 datasets com cada uma das duas distribuições parametrizadas."
      ],
      "metadata": {
        "id": "019Q-DRFixJM"
      }
    },
    {
      "cell_type": "code",
      "source": [],
      "metadata": {
        "id": "hBs8owwDiwi7"
      },
      "execution_count": null,
      "outputs": []
    },
    {
      "cell_type": "markdown",
      "source": [
        "A partir dos resultados dessa seção você deve analisar as seguintes questões:\n",
        "\n",
        "1. Quais foram os horários escolhidos para cada dataset?\n",
        "2. O que você pôde observar a partir dos histogramas dos datasets?\n",
        "3. Comente sobre as diferenças e/ou similaridades entre os datasets 1 e 2, 3 e 4, 5 e 6, 7 e\n",
        "8. O objetivo é comparar as características dos datasets com a maior mediana em um\n",
        "determinado horário com os datasets com a maior média em um determinado horário.\n",
        "4. É possível caracterizar os datasets acima por uma variável aleatória da literatura?\n",
        "5. Se a resposta for não, qual o motivo?\n",
        "6. O que você pode observar a partir dos gráficos *Probability Plot*?\n"
      ],
      "metadata": {
        "id": "L_w2Ucrqi_v8"
      }
    },
    {
      "cell_type": "markdown",
      "source": [
        "## 5. Análise da correlação entre as taxas de upload e download para os horários com o maior valor de tráfego\n",
        "\n",
        "Você deve calcular o coeficiente de correlação amostral e fazer o gráfico scatter plot comparando as taxas dos seguintes datasets:\n",
        "\n",
        "- dataset 1 e dataset 3\n",
        "- dataset 2 e dataset 4\n",
        "- dataset 5 e dataset 7\n",
        "- dataset 6 e dataset 8\n",
        "\n"
      ],
      "metadata": {
        "id": "TqMUMuoWjdPE"
      }
    },
    {
      "cell_type": "code",
      "source": [],
      "metadata": {
        "id": "NPe2qixojaa0"
      },
      "execution_count": null,
      "outputs": []
    },
    {
      "cell_type": "markdown",
      "source": [
        "Você deve analisar os resultados e indicar se existe alguma correlação entre as taxas de download e upload dos dispositivos."
      ],
      "metadata": {
        "id": "typbqX2njyps"
      }
    },
    {
      "cell_type": "markdown",
      "source": [
        "## 6. Comparação dos dados gerados pelos dispositivos SmartTV e Chromecast\n",
        "\n",
        "O objetivo deste estudo é avaliar se os dois dispositivos que são usados prioritariamente\n",
        "para assistir vídeo, possuem distribuição de probabilidade das taxas de upload e download\n",
        "semelhante nos horários de maior tráfego. Você deve usar a estatística G do teste Chi-Square for goodness of fit (apresentado em classe) para fazer essa análise. Esse teste também é\n",
        "chamado de [G-test](https://en.wikipedia.org/wiki/G-test).\n",
        "\n",
        "Você deve realizar o G-test comparando as taxas dos seguintes datasets\n",
        "\n",
        "- dataset 1 e dataset 5\n",
        "- dataset 2 e dataset 6\n",
        "- dataset 3 e dataset 7\n",
        "- dataset 4 e dataset 8\n",
        "\n",
        "Note que para realizar o G-test entre cada par de datasets, o número de bins e os valores dos bins dos histogramas dos datasets a serem comparados devem ser os mesmos. Portanto se os bins dos histogramas que você obteve na seção 4 para um determinado par de datasets for diferente, escolha o número de bins e os valores dos bins de um deles e use como referência para aquele par de datasets."
      ],
      "metadata": {
        "id": "bDUKfEtnj3p1"
      }
    },
    {
      "cell_type": "code",
      "source": [],
      "metadata": {
        "id": "lqRvuJ-3j0jL"
      },
      "execution_count": null,
      "outputs": []
    },
    {
      "cell_type": "markdown",
      "source": [
        "## 7. Relatório\n",
        "\n",
        "Você deve fazer um relatório contendo todos os resultados que você obteve e explicando como\n",
        "você os obteve. É importante comentar cada um dos resultados e explicar se o resultado que você obteve poderá auxiliar o provedor de serviço de Internet a entender os dados que passam pela sua rede. A avaliação do projeto será feita com base na qualidade do relatório.\n",
        "\n",
        "Você deve fazer upload do seu relatório (arquivo pdf) na plataforma do Google Classroom na atividade Projeto do Curso.\n",
        "\n",
        "No relatório deve estar indicado um link para o código que você usou para obter os resultados do trabalho."
      ],
      "metadata": {
        "id": "aG24C64DkoaF"
      }
    }
  ]
}